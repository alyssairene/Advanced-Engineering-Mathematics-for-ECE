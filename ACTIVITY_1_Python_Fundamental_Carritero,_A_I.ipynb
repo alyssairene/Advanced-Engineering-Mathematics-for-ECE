{
  "nbformat": 4,
  "nbformat_minor": 0,
  "metadata": {
    "colab": {
      "name": "ACTIVITY 1- Python Fundamental_Carritero, A. I.ipynb",
      "provenance": [],
      "authorship_tag": "ABX9TyMty0aYqScFBJ345l/X6XzY",
      "include_colab_link": true
    },
    "kernelspec": {
      "name": "python3",
      "display_name": "Python 3"
    },
    "language_info": {
      "name": "python"
    }
  },
  "cells": [
    {
      "cell_type": "markdown",
      "metadata": {
        "id": "view-in-github",
        "colab_type": "text"
      },
      "source": [
        "<a href=\"https://colab.research.google.com/github/alyssairene/Advanced-Engineering-Mathematics-for-ECE/blob/main/ACTIVITY_1_Python_Fundamental_Carritero%2C_A_I.ipynb\" target=\"_parent\"><img src=\"https://colab.research.google.com/assets/colab-badge.svg\" alt=\"Open In Colab\"/></a>"
      ]
    },
    {
      "cell_type": "markdown",
      "source": [
        "#Welcome to python fundamentals \n",
        "in this module, we are going to establish our skills in python programming in this notebook we are going to cover:\n",
        "\n",
        "\n",
        "* Variable and Data types\n",
        "* Operations \n",
        "* Input and Output Operations\n",
        "* Logic Control\n",
        "* Interables\n",
        "* Functions \n",
        "\n",
        "\n",
        "\n",
        "\n",
        "\n",
        "\n",
        "\n",
        "\n"
      ],
      "metadata": {
        "id": "1rkj02H32TWY"
      }
    },
    {
      "cell_type": "markdown",
      "source": [
        "## Variables and Data"
      ],
      "metadata": {
        "id": "Vr49XcXw3uVy"
      }
    },
    {
      "cell_type": "code",
      "source": [
        "x=1\n",
        "x"
      ],
      "metadata": {
        "colab": {
          "base_uri": "https://localhost:8080/"
        },
        "id": "oqBA_JoD9CJb",
        "outputId": "950db16f-d4fd-428a-e6b5-be21222961dd"
      },
      "execution_count": 50,
      "outputs": [
        {
          "output_type": "execute_result",
          "data": {
            "text/plain": [
              "1"
            ]
          },
          "metadata": {},
          "execution_count": 50
        }
      ]
    },
    {
      "cell_type": "code",
      "source": [
        "x=1\n",
        "a, b = 5, -2\n",
        "b"
      ],
      "metadata": {
        "colab": {
          "base_uri": "https://localhost:8080/"
        },
        "id": "hxWyNkUi9IP7",
        "outputId": "2d70eae3-a57b-4a80-ee05-93e0a2b6e90a"
      },
      "execution_count": 6,
      "outputs": [
        {
          "output_type": "execute_result",
          "data": {
            "text/plain": [
              "-2"
            ]
          },
          "metadata": {},
          "execution_count": 6
        }
      ]
    },
    {
      "cell_type": "code",
      "source": [
        "type(x)"
      ],
      "metadata": {
        "colab": {
          "base_uri": "https://localhost:8080/"
        },
        "id": "z5xTucr59YBy",
        "outputId": "5a1d1d13-6667-46a9-c126-4d6b40e49b43"
      },
      "execution_count": 38,
      "outputs": [
        {
          "output_type": "execute_result",
          "data": {
            "text/plain": [
              "float"
            ]
          },
          "metadata": {},
          "execution_count": 38
        }
      ]
    },
    {
      "cell_type": "code",
      "source": [
        "y= 2.25\n",
        "type(y)"
      ],
      "metadata": {
        "colab": {
          "base_uri": "https://localhost:8080/"
        },
        "id": "XjFxdIkW9dFZ",
        "outputId": "60823653-c9fe-47a1-f8b3-71c5f72a11d9"
      },
      "execution_count": 39,
      "outputs": [
        {
          "output_type": "execute_result",
          "data": {
            "text/plain": [
              "float"
            ]
          },
          "metadata": {},
          "execution_count": 39
        }
      ]
    },
    {
      "cell_type": "code",
      "source": [
        "x= float(x)\n",
        "type(x)\n",
        "x"
      ],
      "metadata": {
        "colab": {
          "base_uri": "https://localhost:8080/"
        },
        "id": "Smx3kSRd916m",
        "outputId": "21e02726-4099-4037-e7cd-42447b9957e6"
      },
      "execution_count": 7,
      "outputs": [
        {
          "output_type": "execute_result",
          "data": {
            "text/plain": [
              "1.0"
            ]
          },
          "metadata": {},
          "execution_count": 7
        }
      ]
    },
    {
      "cell_type": "code",
      "source": [
        "s, t, u = \"1\" , \"3\", \"three\"\n",
        "type(s)\n",
        "type(t)\n",
        "type(u)\n"
      ],
      "metadata": {
        "colab": {
          "base_uri": "https://localhost:8080/"
        },
        "id": "yom0qhLR-AVl",
        "outputId": "fb8cf45c-bdfb-4acc-8631-960973b399ea"
      },
      "execution_count": 8,
      "outputs": [
        {
          "output_type": "execute_result",
          "data": {
            "text/plain": [
              "str"
            ]
          },
          "metadata": {},
          "execution_count": 8
        }
      ]
    },
    {
      "cell_type": "markdown",
      "source": [
        "## Operations\n",
        "\n"
      ],
      "metadata": {
        "id": "tmtM-FIR-_Jh"
      }
    },
    {
      "cell_type": "markdown",
      "source": [
        "### Arithmetic\n"
      ],
      "metadata": {
        "id": "X1YqKGvU_GbE"
      }
    },
    {
      "cell_type": "code",
      "source": [
        "w, x, y, z = 4.0, -3.0, 1, - 30"
      ],
      "metadata": {
        "id": "YypyE-lF_Fji"
      },
      "execution_count": 21,
      "outputs": []
    },
    {
      "cell_type": "code",
      "source": [
        "### Addition\n",
        "S =  w + x\n",
        "S"
      ],
      "metadata": {
        "colab": {
          "base_uri": "https://localhost:8080/"
        },
        "id": "oN60-NRh_-gg",
        "outputId": "5a986718-111d-4887-8f7a-2decda514a73"
      },
      "execution_count": 22,
      "outputs": [
        {
          "output_type": "execute_result",
          "data": {
            "text/plain": [
              "1.0"
            ]
          },
          "metadata": {},
          "execution_count": 22
        }
      ]
    },
    {
      "cell_type": "code",
      "source": [
        "### Subtraction\n",
        "D = y - z\n",
        "D"
      ],
      "metadata": {
        "colab": {
          "base_uri": "https://localhost:8080/"
        },
        "id": "hqdmBq_5CZ7A",
        "outputId": "b943e728-485d-49aa-8b1b-dd4af1312141"
      },
      "execution_count": 27,
      "outputs": [
        {
          "output_type": "execute_result",
          "data": {
            "text/plain": [
              "31"
            ]
          },
          "metadata": {},
          "execution_count": 27
        }
      ]
    },
    {
      "cell_type": "code",
      "source": [
        "### Division\n",
        "Q= y/w\n",
        "Q"
      ],
      "metadata": {
        "colab": {
          "base_uri": "https://localhost:8080/"
        },
        "id": "EN9rcHdJCsoZ",
        "outputId": "5edc8542-639a-4de3-f0c9-8ab0cf2ee178"
      },
      "execution_count": 30,
      "outputs": [
        {
          "output_type": "execute_result",
          "data": {
            "text/plain": [
              "0.25"
            ]
          },
          "metadata": {},
          "execution_count": 30
        }
      ]
    },
    {
      "cell_type": "code",
      "source": [
        "### Multiplication\n",
        "M = x*z\n",
        "M"
      ],
      "metadata": {
        "colab": {
          "base_uri": "https://localhost:8080/"
        },
        "id": "sWIoUuMnDMDa",
        "outputId": "57ed4ed9-2bd4-4471-d339-a87601cd37ca"
      },
      "execution_count": 31,
      "outputs": [
        {
          "output_type": "execute_result",
          "data": {
            "text/plain": [
              "90.0"
            ]
          },
          "metadata": {},
          "execution_count": 31
        }
      ]
    },
    {
      "cell_type": "code",
      "source": [
        "### Floor DIvision\n",
        "Qf= w//z\n",
        "Qf"
      ],
      "metadata": {
        "colab": {
          "base_uri": "https://localhost:8080/"
        },
        "id": "RYLTo4OMDkMi",
        "outputId": "d9c6171a-8d95-4cef-d9ba-652cd91c71bc"
      },
      "execution_count": 32,
      "outputs": [
        {
          "output_type": "execute_result",
          "data": {
            "text/plain": [
              "-1.0"
            ]
          },
          "metadata": {},
          "execution_count": 32
        }
      ]
    },
    {
      "cell_type": "code",
      "source": [
        "### Exponentiation\n",
        "E = x**y\n",
        "E"
      ],
      "metadata": {
        "colab": {
          "base_uri": "https://localhost:8080/"
        },
        "id": "8gTTWIkEDvt8",
        "outputId": "60c1ecfc-d4da-4324-e74d-e11dd3a386a8"
      },
      "execution_count": 33,
      "outputs": [
        {
          "output_type": "execute_result",
          "data": {
            "text/plain": [
              "-3.0"
            ]
          },
          "metadata": {},
          "execution_count": 33
        }
      ]
    },
    {
      "cell_type": "code",
      "source": [
        "### Modulo\n",
        "M= z%w\n",
        "M"
      ],
      "metadata": {
        "colab": {
          "base_uri": "https://localhost:8080/"
        },
        "id": "CaRmCJ0XEhzn",
        "outputId": "9547a6fa-2cce-46c9-f2fd-f6f665eeeb7a"
      },
      "execution_count": 37,
      "outputs": [
        {
          "output_type": "execute_result",
          "data": {
            "text/plain": [
              "2.0"
            ]
          },
          "metadata": {},
          "execution_count": 37
        }
      ]
    },
    {
      "cell_type": "markdown",
      "source": [
        "## Assignment\n"
      ],
      "metadata": {
        "id": "CpnS5di4EJjO"
      }
    },
    {
      "cell_type": "code",
      "source": [
        "A, B,C, D, E = 100, 0, 1, 2, 3"
      ],
      "metadata": {
        "id": "eOScOkJPEPOU"
      },
      "execution_count": 40,
      "outputs": []
    },
    {
      "cell_type": "code",
      "source": [
        "A += w"
      ],
      "metadata": {
        "id": "5xgV7GcMFGY9"
      },
      "execution_count": 43,
      "outputs": []
    },
    {
      "cell_type": "code",
      "source": [
        "B -= x"
      ],
      "metadata": {
        "id": "uT9BSzZQFjxN"
      },
      "execution_count": 44,
      "outputs": []
    },
    {
      "cell_type": "code",
      "source": [
        "C /= w"
      ],
      "metadata": {
        "id": "vvSfojoRGIuI"
      },
      "execution_count": 45,
      "outputs": []
    },
    {
      "cell_type": "code",
      "source": [
        "D *= x"
      ],
      "metadata": {
        "id": "X6qUwWKlGN4C"
      },
      "execution_count": 47,
      "outputs": []
    },
    {
      "cell_type": "code",
      "source": [
        "E **= y"
      ],
      "metadata": {
        "id": "B6toKHLUGcVe"
      },
      "execution_count": 49,
      "outputs": []
    },
    {
      "cell_type": "markdown",
      "source": [
        "##"
      ],
      "metadata": {
        "id": "lHoJB60sGlG7"
      }
    }
  ]
}